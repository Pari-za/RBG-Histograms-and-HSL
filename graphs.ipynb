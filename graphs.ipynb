{
 "cells": [
  {
   "cell_type": "markdown",
   "metadata": {},
   "source": [
    "<header style=\"padding: 4em 0 0em 0\">\n",
    "    <img src=\"http://brentyi.github.io/filestore/ai4all_logo.svg\" style=\"width: 30em; height: auto; margin: 0;\" />\n",
    "    <h3 style=\"margin: 1em 0 0 0;\">\n",
    "        <strong>Graphs I</strong>\n",
    "        <span style=\"color: #777\">\n",
    "        &nbsp;&blacksquare;&nbsp;\n",
    "        Robotics, Summer 2020</span>\n",
    "    </h3>\n",
    "</header>"
   ]
  },
  {
   "cell_type": "markdown",
   "metadata": {},
   "source": [
    "<hr style=\"border-top: 0.4em solid #eee;\" />\n",
    "\n",
    "In this notebook, we'll take a whirlwind tour of graphs and graph search algorithms.\n",
    "\n",
    "Our core goals will be to:\n",
    "1. Understand how satelite images can correspond to 2D NumPy arrays.\n",
    "2. Understand how fly-zone constraints can induce a traversable graph on these maps.\n",
    "3. Implement the uniform cost search (breadth first search) algorithm to route a drone.\n",
    "\n",
    "<hr style=\"border-top: 0.4em solid #eee;\" />"
   ]
  },
  {
   "cell_type": "code",
   "execution_count": 1,
   "metadata": {},
   "outputs": [],
   "source": [
    "import numpy as np\n",
    "from graph_helpers import visualize_adjacency, visualize_map, visualize_costs, visualize_path"
   ]
  },
  {
   "cell_type": "markdown",
   "metadata": {},
   "source": [
    "## 1. Map to Matrix"
   ]
  },
  {
   "cell_type": "markdown",
   "metadata": {},
   "source": [
    "<p>First, let's remember that we are taking a map like this:</p>\n",
    "<img src=\"graph_assets/stanford.png\" width=500 style=\"margin-left: 50px\" />\n",
    "<p>And we grid it up like this:</p>\n",
    "<img src=\"graph_assets/stanford_grid.png\" width=500 style=\"margin-left: 50px\" />"
   ]
  },
  {
   "cell_type": "markdown",
   "metadata": {},
   "source": [
    "This looks like a two dimensional array, right?\n",
    "\n",
    "Let's create a rectangular array with zeros."
   ]
  },
  {
   "cell_type": "code",
   "execution_count": 53,
   "metadata": {},
   "outputs": [
    {
     "data": {
      "image/png": "[encoded data removed]",
      "text/plain": [
       "<Figure size 432x288 with 1 Axes>"
      ]
     },
     "metadata": {
      "needs_background": "light"
     },
     "output_type": "display_data"
    }
   ],
   "source": [
    "a = np.zeros((15, 20))\n",
    "visualize_map(\"Empty Map\", a)"
   ]
  },
  {
   "cell_type": "markdown",
   "metadata": {},
   "source": [
    "Why is it red? Well, we want the value `a[i, j]` to encode something about that cell.\n",
    "\n",
    "When we were working with images, each cell had 3 numbers (in the case of RGB or HSL), but now it has one.\n",
    "\n",
    "We decide what that number means. Here we are saying, visualize 0 as red!"
   ]
  },
  {
   "cell_type": "markdown",
   "metadata": {},
   "source": [
    "Now let's see what color 1 is visualized as:"
   ]
  },
  {
   "cell_type": "code",
   "execution_count": 4,
   "metadata": {},
   "outputs": [],
   "source": [
    "b = np.zeros((15, 20))\n",
    "b[0, 0] = 1"
   ]
  },
  {
   "cell_type": "code",
   "execution_count": 5,
   "metadata": {},
   "outputs": [
    {
     "data": {
      "image/png": "[encoded data removed]",
      "text/plain": [
       "<Figure size 432x288 with 1 Axes>"
      ]
     },
     "metadata": {
      "needs_background": "light"
     },
     "output_type": "display_data"
    }
   ],
   "source": [
    "visualize_map(\"Empty Map with one green cell\", b)"
   ]
  },
  {
   "cell_type": "markdown",
   "metadata": {},
   "source": [
    "Here we are saying to visualize the number 1 as green!"
   ]
  },
  {
   "cell_type": "markdown",
   "metadata": {},
   "source": [
    "We can change the colors that are shown by the `visualize_map` function via the `cmap` named argument.\n",
    "\n",
    "`cmap` takes a function that maps floats to lists of`[r,g,b]` values. See below.\n",
    "\n",
    "Let's flip the colors:"
   ]
  },
  {
   "cell_type": "code",
   "execution_count": 9,
   "metadata": {},
   "outputs": [
    {
     "data": {
      "image/png": "[encoded data removed]",
      "text/plain": [
       "<Figure size 432x288 with 1 Axes>"
      ]
     },
     "metadata": {
      "needs_background": "light"
     },
     "output_type": "display_data"
    }
   ],
   "source": [
    "def flipped_cmap(x):\n",
    "    if x == 0:\n",
    "        return [0, 255, 0]\n",
    "    else:\n",
    "        return [255, 0, 0]\n",
    "\n",
    "visualize_map(\"Empty Map with one green cell\", b, cmap=flipped_cmap)"
   ]
  },
  {
   "cell_type": "markdown",
   "metadata": {},
   "source": [
    "Ok! So we have a \"map\" which is a numpy array and cells can be 0 or 1. We can visualize it.\n",
    "\n",
    "Now let's go back to green and red, and use these to visualize where we can fly.\n",
    "\n",
    "Think about green for grass and red for lava. We can walk on grass, but not on lava!"
   ]
  },
  {
   "cell_type": "markdown",
   "metadata": {},
   "source": [
    "## 2. Types of Cells\n",
    "\n",
    "<p>Suppose the following cells, indicated with a red dot are \"flyable\":</p>\n",
    "<img src=\"graph_assets/stanford_grid_flyable.png\" width=500 style=\"margin-left: 50px\" />"
   ]
  },
  {
   "cell_type": "markdown",
   "metadata": {},
   "source": [
    "Let's visualize this flyable zone as green, and the unflyable as red"
   ]
  },
  {
   "cell_type": "code",
   "execution_count": 51,
   "metadata": {},
   "outputs": [
    {
     "data": {
      "image/png": "[encoded data removed]",
      "text/plain": [
       "<Figure size 432x288 with 1 Axes>"
      ]
     },
     "metadata": {
      "needs_background": "light"
     },
     "output_type": "display_data"
    }
   ],
   "source": [
    "stanford_map = np.zeros((15, 20))\n",
    "stanford_map[0, 9:11] = 1\n",
    "stanford_map[1, 8:10] = 1\n",
    "stanford_map[2, 8:10] = 1\n",
    "stanford_map[3, 7:9] = 1\n",
    "stanford_map[4, 7:9] = 1\n",
    "stanford_map[5, 7:8] = 1\n",
    "stanford_map[6, 6:8] = 1\n",
    "stanford_map[7, 6:8] = 1\n",
    "stanford_map[8, 4:8] = 1\n",
    "visualize_map(\"Stanford Flyable Zones\", stanford_map)"
   ]
  },
  {
   "cell_type": "markdown",
   "metadata": {},
   "source": [
    "So now we have a representation for a map.\n",
    "\n",
    "Remember, we want to do search in this map, so now we will construct a graph."
   ]
  },
  {
   "cell_type": "markdown",
   "metadata": {},
   "source": [
    "## 3. Constructing the graph\n",
    "\n",
    "\n",
    "<p>Since we can only fly in between flyable cells, we are going cells we can fly in as connected, and that induces an undirected graph!<p>\n",
    "<img src=\"graph_assets/stanford_grid_flyable_connected.png\" width=500 style=\"margin-left: 50px\" />"
   ]
  },
  {
   "cell_type": "markdown",
   "metadata": {},
   "source": [
    "We can use this to build an adjacency matrix!\n",
    "\n",
    "### a) Adjacency matrix review\n",
    "\n",
    "Remember, adjacency matrices are two-dimensional numpy arrays. They are always square!\n",
    "\n",
    "They have values which are either 0 or 1!\n",
    "\n",
    "If the entry `i,j` is 1 that means there is an edge from `i` to `j`.\n",
    "\n",
    "For undirected graphs, adjacency matrices are always symmetric! "
   ]
  },
  {
   "cell_type": "markdown",
   "metadata": {},
   "source": [
    "<div style=\"color: #a00; font-weight: 800; padding: 1em 0; border-top: 0.4em solid #eee;\">Checkoff: Adjacency Matrix Concept</div>\n",
    "\n",
    "What is an adjacency matrix?\n",
    "\n",
    " * How do `1`s and `0`s correspond to edges in an undirected graph?\n",
    " * If our map is `m` by `n`, what is the size of the adjacency matrix?\n",
    "\n",
    "> *Your response here!*\n",
    "The adjacent matrix is "
   ]
  },
  {
   "cell_type": "markdown",
   "metadata": {},
   "source": [
    "### b) Indexing\n",
    "\n",
    "As the first piece, we need to think about how label the nodes of our graph. Since each cell in our `m` by `n` grid corresponds to a vertex, our graph has `mn` nodes!\n",
    "\n",
    "Let's index vertices from left to right, top to bottom. So the top left cell is vertex 0 and the cell below it is vertex `n`. The cell below and to the right of the top left cell is vertex `n+1`."
   ]
  },
  {
   "cell_type": "markdown",
   "metadata": {},
   "source": [
    "<div style=\"color: #a00; font-weight: 800; padding: 1em 0; border-top: 0.4em solid #eee;\">Checkoff: Vertices from Cells</div>\n",
    "Complete the following function, `vertex_of_cell`, which gets the vertex number from  the cell indicies.\n",
    "\n",
    "For example, \n",
    "* `vertex_of_cell([0, 0]) == 0`\n",
    "* `vertex_of_cell([0, 1]) == 1`\n",
    "* `vertex_of_cell([1, 1]) == n+1`"
   ]
  },
  {
   "cell_type": "code",
   "execution_count": 11,
   "metadata": {},
   "outputs": [],
   "source": [
    "def vertex_of_cell(M, i, j):\n",
    "    \"\"\"Get the vertex of a cell\n",
    "\n",
    "    Args:\n",
    "        M (np.ndarray): the map we are working with.\n",
    "        i (int): the row index.\n",
    "        j (int): the column index.\n",
    "    \"\"\"\n",
    "    assert len(M.shape) == 2\n",
    "    m, n = M.shape\n",
    "    # YOUR CODE HERE\n",
    "    # ***** Start of your code *****\n",
    "  \n",
    "    # ***** End of your code *****"
   ]
  },
  {
   "cell_type": "markdown",
   "metadata": {},
   "source": [
    "<div style=\"color: #a00; font-weight: 800; padding: 1em 0; border-top: 0.4em solid #eee;\">Checkoff: Cells from Vertices</div>\n",
    "Now let's go the other direction, given a vertex let's get what indices it corresponds to in the map."
   ]
  },
  {
   "cell_type": "markdown",
   "metadata": {},
   "source": [
    "\n",
    "Complete the function `cell_of_vertex` which maps the vertex index to the cell indices!\n",
    "\n",
    "Hint: remember `//` does integer division and `%` gets the remainder."
   ]
  },
  {
   "cell_type": "code",
   "execution_count": 3,
   "metadata": {},
   "outputs": [],
   "source": [
    "def cell_of_vertex(M, k):\n",
    "    \"\"\"Get cell corresponding to the vertex.\n",
    "\n",
    "    Args:\n",
    "        M (np.ndarray): the map we are working with.\n",
    "        i (int): the row index.\n",
    "        j (int): the column index.\n",
    "    \"\"\"\n",
    "    assert len(M.shape) == 2\n",
    "    m, n = M.shape\n",
    "    \n",
    "    # YOUR CODE HERE\n",
    "    # ***** Start of your code *****\n",
    "\n",
    "    # ***** End of your code *****"
   ]
  },
  {
   "cell_type": "markdown",
   "metadata": {},
   "source": [
    "### c) Implementation\n",
    "\n",
    "Now let's actually construct the adjacency matrix. Two vertices will be connected if they are each flyable!"
   ]
  },
  {
   "cell_type": "markdown",
   "metadata": {},
   "source": [
    "<div style=\"color: #a00; font-weight: 800; padding: 1em 0; border-top: 0.4em solid #eee;\">Checkoff: Constructing adjacency matrix from map</div>\n",
    "\n",
    "Complete the function `adjacency_matrix`. Remember two cells should be connected by an edge in the graph if they are each flyable.\n",
    "\n",
    "Also remember that the adjacency matrix for undirected graphs is symmetric, which means `A[i, j] = A[j, i]`."
   ]
  },
  {
   "cell_type": "markdown",
   "metadata": {},
   "source": [
    "Hint: you should probably loop over the cells!"
   ]
  },
  {
   "cell_type": "code",
   "execution_count": 4,
   "metadata": {},
   "outputs": [
    {
     "ename": "SyntaxError",
     "evalue": "invalid syntax (<ipython-input-4-acdb130a3ea1>, line 25)",
     "output_type": "error",
     "traceback": [
      "\u001b[1;36m  File \u001b[1;32m\"<ipython-input-4-acdb130a3ea1>\"\u001b[1;36m, line \u001b[1;32m25\u001b[0m\n\u001b[1;33m    if M[i, j+1] ==1\u001b[0m\n\u001b[1;37m                    ^\u001b[0m\n\u001b[1;31mSyntaxError\u001b[0m\u001b[1;31m:\u001b[0m invalid syntax\n"
     ]
    }
   ],
   "source": [
    "def adjacency_matrix(M, flyable=1):\n",
    "    \"\"\"Visualize a 2D array using matplotlib.\n",
    "    All inputs values should be normalized 0.0-1.0.\n",
    "\n",
    "    Args:\n",
    "        M (np.ndarray): the map we are working with.\n",
    "        flyable (int): what number indicates a flyable cell; defauls to 1.\n",
    "    \"\"\"\n",
    "    assert len(M.shape) == 2\n",
    "    # Size of map\n",
    "    m, n = M.shape\n",
    "    \n",
    "    # Number of vertices\n",
    "    o = m * n\n",
    "    \n",
    "    # A for *A*djacency matrix\n",
    "    A = np.zeros((o, o))\n",
    "    \n",
    "    # YOUR CODE HERE\n",
    "    for i in range(m):\n",
    "        for j in range(m):\n",
    "            vertex_number = vertex_of_cell(M, i, j)\n",
    "            \n",
    "            if M[i, j] ==1:\n",
    "                if M[i, j+1] ==1\n",
    "                    A[vertex_number, vertex_number + 1] = 1\n",
    "                    A[vertex_number + 1, vertex_number] = 1\n",
    "                elif M[i, j-1]\n",
    "                \n",
    "                \n",
    "    # ***** End of your code *****\n",
    "    \n",
    "    return A    "
   ]
  },
  {
   "cell_type": "code",
   "execution_count": 5,
   "metadata": {},
   "outputs": [
    {
     "ename": "NameError",
     "evalue": "name 'adjacency_matrix' is not defined",
     "output_type": "error",
     "traceback": [
      "\u001b[1;31m---------------------------------------------------------------------------\u001b[0m",
      "\u001b[1;31mNameError\u001b[0m                                 Traceback (most recent call last)",
      "\u001b[1;32m<ipython-input-5-27c7ae565180>\u001b[0m in \u001b[0;36m<module>\u001b[1;34m\u001b[0m\n\u001b[1;32m----> 1\u001b[1;33m \u001b[0mstanford_adjacency\u001b[0m \u001b[1;33m=\u001b[0m \u001b[0madjacency_matrix\u001b[0m\u001b[1;33m(\u001b[0m\u001b[0mstanford_map\u001b[0m\u001b[1;33m)\u001b[0m\u001b[1;33m\u001b[0m\u001b[1;33m\u001b[0m\u001b[0m\n\u001b[0m",
      "\u001b[1;31mNameError\u001b[0m: name 'adjacency_matrix' is not defined"
     ]
    }
   ],
   "source": [
    "stanford_adjacency = adjacency_matrix(stanford_map)"
   ]
  },
  {
   "cell_type": "markdown",
   "metadata": {},
   "source": [
    "<div style=\"color: #a00; font-weight: 800; padding: 1em 0; border-top: 0.4em solid #eee;\">Checkoff: Adjacency Matrix</div>\n",
    "\n",
    "Run the following code cell to visualize the entries, what do you see?\n",
    "\n",
    "> *Your response here!*"
   ]
  },
  {
   "cell_type": "code",
   "execution_count": 59,
   "metadata": {},
   "outputs": [
    {
     "ename": "NameError",
     "evalue": "name 'stanford_adjacency' is not defined",
     "output_type": "error",
     "traceback": [
      "\u001b[1;31m---------------------------------------------------------------------------\u001b[0m",
      "\u001b[1;31mNameError\u001b[0m                                 Traceback (most recent call last)",
      "\u001b[1;32m<ipython-input-59-a1ff4cd48219>\u001b[0m in \u001b[0;36m<module>\u001b[1;34m\u001b[0m\n\u001b[1;32m----> 1\u001b[1;33m \u001b[0mvisualize_adjacency\u001b[0m\u001b[1;33m(\u001b[0m\u001b[1;34m\"Stanford Adjacency Matrix\"\u001b[0m\u001b[1;33m,\u001b[0m \u001b[0mstanford_adjacency\u001b[0m\u001b[1;33m)\u001b[0m\u001b[1;33m\u001b[0m\u001b[1;33m\u001b[0m\u001b[0m\n\u001b[0m",
      "\u001b[1;31mNameError\u001b[0m: name 'stanford_adjacency' is not defined"
     ]
    }
   ],
   "source": [
    "visualize_adjacency(\"Stanford Adjacency Matrix\", stanford_adjacency)"
   ]
  },
  {
   "cell_type": "markdown",
   "metadata": {},
   "source": [
    "<div style=\"color: #a00; font-weight: 800; padding: 1em 0; border-top: 0.4em solid #eee;\">Checkoff: Graph on map visualization</div>\n",
    "\n",
    "The `visualize_map` function can also take an adjacency matrix to visualize via the named `A` argument.\n",
    "\n",
    "Run the following code cell to visualize it, what do you see? Is this harder or easier to interpret than the adjacency matrix itself?\n",
    "\n",
    "> *Your response here!*"
   ]
  },
  {
   "cell_type": "code",
   "execution_count": 17,
   "metadata": {},
   "outputs": [
    {
     "ename": "NameError",
     "evalue": "name 'stanford_adjacency' is not defined",
     "output_type": "error",
     "traceback": [
      "\u001b[1;31m---------------------------------------------------------------------------\u001b[0m",
      "\u001b[1;31mNameError\u001b[0m                                 Traceback (most recent call last)",
      "\u001b[1;32m<ipython-input-17-54a2af65a3e7>\u001b[0m in \u001b[0;36m<module>\u001b[1;34m\u001b[0m\n\u001b[1;32m----> 1\u001b[1;33m \u001b[0mvisualize_map\u001b[0m\u001b[1;33m(\u001b[0m\u001b[1;34m\"Stanford Flyable Zones Connected\"\u001b[0m\u001b[1;33m,\u001b[0m \u001b[0mstanford_map\u001b[0m\u001b[1;33m,\u001b[0m \u001b[0mA\u001b[0m\u001b[1;33m=\u001b[0m\u001b[0mstanford_adjacency\u001b[0m\u001b[1;33m)\u001b[0m\u001b[1;33m\u001b[0m\u001b[1;33m\u001b[0m\u001b[0m\n\u001b[0m",
      "\u001b[1;31mNameError\u001b[0m: name 'stanford_adjacency' is not defined"
     ]
    }
   ],
   "source": [
    "visualize_map(\"Stanford Flyable Zones Connected\", stanford_map, A=stanford_adjacency)"
   ]
  },
  {
   "cell_type": "markdown",
   "metadata": {},
   "source": [
    "## 4. Finding Neighbors\n",
    "\n",
    "### a) The neighbors of a vertex...\n",
    "\n",
    "The set neighbors of a node in an undirected graph are those nodes which are connected to it by an edge!\n",
    "\n",
    "Let's write a function that get's the neighbors of vertices"
   ]
  },
  {
   "cell_type": "markdown",
   "metadata": {},
   "source": [
    "<div style=\"color: #a00; font-weight: 800; padding: 1em 0; border-top: 0.4em solid #eee;\">Checkoff: Neighbors</div>\n",
    "\n",
    "Complete the following function to get the neighbors of vertex `k`."
   ]
  },
  {
   "cell_type": "code",
   "execution_count": 18,
   "metadata": {},
   "outputs": [],
   "source": [
    "def neighbors(A, k):\n",
    "    \"\"\"Get the neighbors of vertex `i`\n",
    "    \n",
    "    Args:\n",
    "        A (np.ndarray): Adjacency matrix\n",
    "        i (int): vertex we care about.\n",
    "    \"\"\"\n",
    "    assert len(A.shape) == 2\n",
    "    assert A.shape[0] == A.shape[1]\n",
    "    \n",
    "    # we have o vertices\n",
    "    o = A.shape[0]\n",
    "    assert k < o\n",
    "    \n",
    "    # ***** Start of your code *****\n",
    "    assert False, \"Delete this line!\"\n",
    "    # ***** End of your code *****"
   ]
  },
  {
   "cell_type": "markdown",
   "metadata": {},
   "source": [
    "Does vertex 0, the top left have any neighbors?"
   ]
  },
  {
   "cell_type": "code",
   "execution_count": 19,
   "metadata": {},
   "outputs": [
    {
     "ename": "NameError",
     "evalue": "name 'stanford_adjacency' is not defined",
     "output_type": "error",
     "traceback": [
      "\u001b[1;31m---------------------------------------------------------------------------\u001b[0m",
      "\u001b[1;31mNameError\u001b[0m                                 Traceback (most recent call last)",
      "\u001b[1;32m<ipython-input-19-dad126178f73>\u001b[0m in \u001b[0;36m<module>\u001b[1;34m\u001b[0m\n\u001b[1;32m----> 1\u001b[1;33m \u001b[1;32massert\u001b[0m \u001b[0mneighbors\u001b[0m\u001b[1;33m(\u001b[0m\u001b[0mstanford_adjacency\u001b[0m\u001b[1;33m,\u001b[0m \u001b[1;36m0\u001b[0m\u001b[1;33m)\u001b[0m \u001b[1;33m==\u001b[0m \u001b[1;33m[\u001b[0m\u001b[1;33m]\u001b[0m\u001b[1;33m\u001b[0m\u001b[1;33m\u001b[0m\u001b[0m\n\u001b[0m",
      "\u001b[1;31mNameError\u001b[0m: name 'stanford_adjacency' is not defined"
     ]
    }
   ],
   "source": [
    "assert neighbors(stanford_adjacency, 0) == []"
   ]
  },
  {
   "cell_type": "markdown",
   "metadata": {},
   "source": [
    "Does vertex 29?"
   ]
  },
  {
   "cell_type": "code",
   "execution_count": 20,
   "metadata": {},
   "outputs": [
    {
     "ename": "NameError",
     "evalue": "name 'stanford_adjacency' is not defined",
     "output_type": "error",
     "traceback": [
      "\u001b[1;31m---------------------------------------------------------------------------\u001b[0m",
      "\u001b[1;31mNameError\u001b[0m                                 Traceback (most recent call last)",
      "\u001b[1;32m<ipython-input-20-c7a426eb9571>\u001b[0m in \u001b[0;36m<module>\u001b[1;34m\u001b[0m\n\u001b[1;32m----> 1\u001b[1;33m \u001b[1;32massert\u001b[0m \u001b[0mneighbors\u001b[0m\u001b[1;33m(\u001b[0m\u001b[0mstanford_adjacency\u001b[0m\u001b[1;33m,\u001b[0m \u001b[1;36m29\u001b[0m\u001b[1;33m)\u001b[0m \u001b[1;33m==\u001b[0m \u001b[1;33m[\u001b[0m\u001b[1;36m9\u001b[0m\u001b[1;33m,\u001b[0m \u001b[1;36m28\u001b[0m\u001b[1;33m,\u001b[0m \u001b[1;36m49\u001b[0m\u001b[1;33m]\u001b[0m\u001b[1;33m\u001b[0m\u001b[1;33m\u001b[0m\u001b[0m\n\u001b[0m",
      "\u001b[1;31mNameError\u001b[0m: name 'stanford_adjacency' is not defined"
     ]
    }
   ],
   "source": [
    "assert neighbors(stanford_adjacency, 29) == [9, 28, 49]"
   ]
  },
  {
   "cell_type": "markdown",
   "metadata": {},
   "source": [
    "## 5. Sidebar: Queues \n",
    "\n",
    "We are headed towards search algorithms! But a quick detour...we need to talk about queues!\n",
    "\n",
    "### a) Queues...\n",
    "Remember, queues are useful for storing a list of elements, with the semantics FIFO or LIFO.\n",
    "\n",
    "* FIFO stands for first in first out; the item which was added to the queue earliest will be the next to be popped.\n",
    "* LIFO stands for last in first out; the item which was most recently added to the queue will be the next to be popped.\n",
    "\n",
    "People often call LIFO queues **stacks** and call FIFO queues just **queues**. In lecture, we also saw priority queues, in which the queue elements are associated with a priority value, and popping gives the highest priority element.\n",
    "\n",
    "For the search algorithm we will implement, we only need FIFO queues, which we will call queues."
   ]
  },
  {
   "cell_type": "markdown",
   "metadata": {},
   "source": [
    "### b) Queues via lists"
   ]
  },
  {
   "cell_type": "markdown",
   "metadata": {},
   "source": [
    "For us, a queue is just a list:"
   ]
  },
  {
   "cell_type": "code",
   "execution_count": 21,
   "metadata": {},
   "outputs": [],
   "source": [
    "queue = []"
   ]
  },
  {
   "cell_type": "markdown",
   "metadata": {},
   "source": [
    "We can append (or push or add) to the queue"
   ]
  },
  {
   "cell_type": "code",
   "execution_count": 22,
   "metadata": {},
   "outputs": [
    {
     "data": {
      "text/plain": [
       "[1, 2]"
      ]
     },
     "execution_count": 22,
     "metadata": {},
     "output_type": "execute_result"
    }
   ],
   "source": [
    "queue.append(1)\n",
    "queue.append(2)\n",
    "queue"
   ]
  },
  {
   "cell_type": "markdown",
   "metadata": {},
   "source": [
    "We can remove (or pop or get) from the queue"
   ]
  },
  {
   "cell_type": "code",
   "execution_count": 23,
   "metadata": {},
   "outputs": [
    {
     "name": "stdout",
     "output_type": "stream",
     "text": [
      "popped 1 from queue which is now [2]\n"
     ]
    }
   ],
   "source": [
    "elem = queue.pop(0)\n",
    "print(f\"popped {elem} from queue which is now {queue}\")"
   ]
  },
  {
   "cell_type": "code",
   "execution_count": 24,
   "metadata": {},
   "outputs": [
    {
     "name": "stdout",
     "output_type": "stream",
     "text": [
      "popped 2 from queue which is now []\n"
     ]
    }
   ],
   "source": [
    "elem = queue.pop(0)\n",
    "print(f\"popped {elem} from queue which is now {queue}\")"
   ]
  },
  {
   "cell_type": "markdown",
   "metadata": {},
   "source": [
    "What happens if we pop from a queue when it's empty? Uncomment the next line to find out!"
   ]
  },
  {
   "cell_type": "code",
   "execution_count": 25,
   "metadata": {},
   "outputs": [],
   "source": [
    "# elem = queue.pop(0)"
   ]
  },
  {
   "cell_type": "markdown",
   "metadata": {},
   "source": [
    "So in general, we might need to check:"
   ]
  },
  {
   "cell_type": "code",
   "execution_count": 26,
   "metadata": {},
   "outputs": [
    {
     "name": "stdout",
     "output_type": "stream",
     "text": [
      "can't pop\n"
     ]
    }
   ],
   "source": [
    "if len(queue) > 0:\n",
    "    print(\"can pop\")\n",
    "else:\n",
    "    print(\"can't pop\")"
   ]
  },
  {
   "cell_type": "markdown",
   "metadata": {},
   "source": [
    "<div style=\"color: #a00; font-weight: 800; padding: 1em 0; border-top: 0.4em solid #eee;\">Checkoff: Queue Basics</div>\n",
    "\n",
    "Because of this let's write two functions: \n",
    "\n",
    "* one called `push` to add elements to a queue\n",
    "* one called `pop` to get an element and shorten the queue\n",
    "\n",
    "Hint: `push` is one line! `pop` requires an `if` statement checking the length of the queue!"
   ]
  },
  {
   "cell_type": "code",
   "execution_count": 27,
   "metadata": {},
   "outputs": [
    {
     "ename": "AssertionError",
     "evalue": "Delete this line!",
     "output_type": "error",
     "traceback": [
      "\u001b[1;31m---------------------------------------------------------------------------\u001b[0m",
      "\u001b[1;31mAssertionError\u001b[0m                            Traceback (most recent call last)",
      "\u001b[1;32m<ipython-input-27-7cc398e8d5c6>\u001b[0m in \u001b[0;36m<module>\u001b[1;34m\u001b[0m\n\u001b[0;32m     27\u001b[0m \u001b[1;33m\u001b[0m\u001b[0m\n\u001b[0;32m     28\u001b[0m \u001b[0mtest_list\u001b[0m \u001b[1;33m=\u001b[0m \u001b[1;33m[\u001b[0m\u001b[1;36m1\u001b[0m\u001b[1;33m,\u001b[0m \u001b[1;36m2\u001b[0m\u001b[1;33m,\u001b[0m \u001b[1;36m3\u001b[0m\u001b[1;33m,\u001b[0m \u001b[1;36m4\u001b[0m\u001b[1;33m,\u001b[0m \u001b[1;36m5\u001b[0m\u001b[1;33m]\u001b[0m\u001b[1;33m\u001b[0m\u001b[1;33m\u001b[0m\u001b[0m\n\u001b[1;32m---> 29\u001b[1;33m \u001b[0mpush\u001b[0m\u001b[1;33m(\u001b[0m\u001b[0mtest_list\u001b[0m\u001b[1;33m,\u001b[0m \u001b[1;36m6\u001b[0m\u001b[1;33m)\u001b[0m\u001b[1;33m\u001b[0m\u001b[1;33m\u001b[0m\u001b[0m\n\u001b[0m\u001b[0;32m     30\u001b[0m \u001b[1;32massert\u001b[0m \u001b[0mlen\u001b[0m\u001b[1;33m(\u001b[0m\u001b[0mtest_list\u001b[0m\u001b[1;33m)\u001b[0m \u001b[1;33m==\u001b[0m \u001b[1;36m6\u001b[0m\u001b[1;33m\u001b[0m\u001b[1;33m\u001b[0m\u001b[0m\n\u001b[0;32m     31\u001b[0m \u001b[1;32massert\u001b[0m \u001b[0mtest_list\u001b[0m\u001b[1;33m[\u001b[0m\u001b[1;33m-\u001b[0m\u001b[1;36m1\u001b[0m\u001b[1;33m]\u001b[0m \u001b[1;33m==\u001b[0m \u001b[1;36m6\u001b[0m\u001b[1;33m\u001b[0m\u001b[1;33m\u001b[0m\u001b[0m\n",
      "\u001b[1;32m<ipython-input-27-7cc398e8d5c6>\u001b[0m in \u001b[0;36mpush\u001b[1;34m(q, elem)\u001b[0m\n\u001b[0;32m      8\u001b[0m     \u001b[1;31m# YOUR CODE HERE\u001b[0m\u001b[1;33m\u001b[0m\u001b[1;33m\u001b[0m\u001b[1;33m\u001b[0m\u001b[0m\n\u001b[0;32m      9\u001b[0m     \u001b[1;31m# ***** Start of your code *****\u001b[0m\u001b[1;33m\u001b[0m\u001b[1;33m\u001b[0m\u001b[1;33m\u001b[0m\u001b[0m\n\u001b[1;32m---> 10\u001b[1;33m     \u001b[1;32massert\u001b[0m \u001b[1;32mFalse\u001b[0m\u001b[1;33m,\u001b[0m \u001b[1;34m\"Delete this line!\"\u001b[0m\u001b[1;33m\u001b[0m\u001b[1;33m\u001b[0m\u001b[0m\n\u001b[0m\u001b[0;32m     11\u001b[0m     \u001b[1;31m# ***** End of your code *****\u001b[0m\u001b[1;33m\u001b[0m\u001b[1;33m\u001b[0m\u001b[1;33m\u001b[0m\u001b[0m\n\u001b[0;32m     12\u001b[0m \u001b[1;33m\u001b[0m\u001b[0m\n",
      "\u001b[1;31mAssertionError\u001b[0m: Delete this line!"
     ]
    }
   ],
   "source": [
    "def push(q, elem):\n",
    "    \"\"\"Add an element to the queue\n",
    "    \n",
    "    Args:\n",
    "        q (list): the queue.\n",
    "        elem (Any): the element to add.\n",
    "    \"\"\"\n",
    "    # YOUR CODE HERE\n",
    "    # ***** Start of your code *****\n",
    "    assert False, \"Delete this line!\"\n",
    "    # ***** End of your code *****\n",
    "    \n",
    "def pop(q):\n",
    "    \"\"\"Get an element from a queue, if there are any.\n",
    "    If there is nothing in the queue, return the value None.\n",
    "    \n",
    "    Args:\n",
    "        q (list): the queue.\n",
    "    Returns:\n",
    "        obj \n",
    "    \"\"\"\n",
    "    \n",
    "    # YOUR CODE HERE\n",
    "    # ***** Start of your code *****\n",
    "    assert False, \"Delete this line!\"\n",
    "    # ***** End of your code *****\n",
    "    \n",
    "test_list = [1, 2, 3, 4, 5]\n",
    "push(test_list, 6)\n",
    "assert len(test_list) == 6\n",
    "assert test_list[-1] == 6\n",
    "assert pop(test_list) == 1\n",
    "assert len(test_list) == 5"
   ]
  },
  {
   "cell_type": "markdown",
   "metadata": {},
   "source": [
    "<div style=\"color: #a00; font-weight: 800; padding: 1em 0; border-top: 0.4em solid #eee;\">Checkoff: Using `push` and `pop`</div>\n",
    "\n",
    "In the following cell, create a queue. Push (1,2), (3,4), (5,6) to it, then pop from the queue twice, then push (11,12).\n",
    "\n",
    "What does the queue contain?\n",
    "> *Your response here!*"
   ]
  },
  {
   "cell_type": "code",
   "execution_count": 28,
   "metadata": {},
   "outputs": [
    {
     "ename": "AssertionError",
     "evalue": "Delete this line!",
     "output_type": "error",
     "traceback": [
      "\u001b[1;31m---------------------------------------------------------------------------\u001b[0m",
      "\u001b[1;31mAssertionError\u001b[0m                            Traceback (most recent call last)",
      "\u001b[1;32m<ipython-input-28-a73d8fdc6208>\u001b[0m in \u001b[0;36m<module>\u001b[1;34m\u001b[0m\n\u001b[0;32m      2\u001b[0m \u001b[1;31m# YOUR CODE HERE\u001b[0m\u001b[1;33m\u001b[0m\u001b[1;33m\u001b[0m\u001b[1;33m\u001b[0m\u001b[0m\n\u001b[0;32m      3\u001b[0m \u001b[1;31m# ***** Start of your code *****\u001b[0m\u001b[1;33m\u001b[0m\u001b[1;33m\u001b[0m\u001b[1;33m\u001b[0m\u001b[0m\n\u001b[1;32m----> 4\u001b[1;33m \u001b[1;32massert\u001b[0m \u001b[1;32mFalse\u001b[0m\u001b[1;33m,\u001b[0m \u001b[1;34m\"Delete this line!\"\u001b[0m\u001b[1;33m\u001b[0m\u001b[1;33m\u001b[0m\u001b[0m\n\u001b[0m\u001b[0;32m      5\u001b[0m \u001b[1;31m# ***** End of your code *****\u001b[0m\u001b[1;33m\u001b[0m\u001b[1;33m\u001b[0m\u001b[1;33m\u001b[0m\u001b[0m\n\u001b[0;32m      6\u001b[0m \u001b[0mprint\u001b[0m\u001b[1;33m(\u001b[0m\u001b[0mqueue\u001b[0m\u001b[1;33m)\u001b[0m\u001b[1;33m\u001b[0m\u001b[1;33m\u001b[0m\u001b[0m\n",
      "\u001b[1;31mAssertionError\u001b[0m: Delete this line!"
     ]
    }
   ],
   "source": [
    "queue = []\n",
    "# YOUR CODE HERE\n",
    "# ***** Start of your code *****\n",
    "assert False, \"Delete this line!\"\n",
    "# ***** End of your code *****\n",
    "print(queue)"
   ]
  },
  {
   "cell_type": "markdown",
   "metadata": {},
   "source": [
    "That was our whole sidebar! We will use queues to keep track of our search in the graph!"
   ]
  },
  {
   "cell_type": "markdown",
   "metadata": {},
   "source": [
    "## 6. Search\n",
    "\n",
    "Remember we will be searching through the graph. \n",
    "\n",
    "We will have a designated start vertex, and we are interested in the distances to all the other vertices. If we have to travel two edges to get from vertex `u` to vertex `v` we will say that these the cost of going from `u` to `v` is 2.\n",
    "\n",
    "Review the lecture slides for the breadth first search algorithm.\n",
    "\n",
    "### a) Implementation"
   ]
  },
  {
   "cell_type": "markdown",
   "metadata": {},
   "source": [
    "<div style=\"color: #a00; font-weight: 800; padding: 1em 0; border-top: 0.4em solid #eee;\">Checkoff: Uniform Cost Search</div>\n",
    "\n",
    "Complete the implementation of the uniform cost search algorithm before. "
   ]
  },
  {
   "cell_type": "markdown",
   "metadata": {},
   "source": [
    "\n",
    "We have declared some variables to get you started, including:\n",
    " * `costs` the vector of costs\n",
    " * `queue` the search queue; store tuples of `(vertex,cost)` on the queue.\n",
    " * `seen` the dictionary of already-seen nodes; use to only add vertices to the queue once.\n",
    " \n",
    "Hint: loop while there is still something in the queue, and pop an element off; get the vertex it references and the cost. Mark it as seen. If it is the goal, return the costs. Otherwise, loop over its neighbors and add then ones we have not yet seen to the queue with cost one higher than the current cost. Once the queue is empty, return the costs."
   ]
  },
  {
   "cell_type": "code",
   "execution_count": 29,
   "metadata": {},
   "outputs": [],
   "source": [
    "def uniform_cost_search(A, start, goal):\n",
    "    \"\"\"Perform a breadth first search, returning distances from nodes.\n",
    "       If goal is specified, return costs once goal is found.\n",
    "       If the distance to the node is np.inf, then the nodes are unconnected in the graph.\n",
    "    \n",
    "    Args:\n",
    "        A (np.ndarray): Adjacency matrix representing graph to search.\n",
    "        start (int): vertex to start search at.\n",
    "        goal (int): vertex indicating goal node.\n",
    "    \"\"\"\n",
    "    # o is the number of nodes\n",
    "    o = A.shape[0]\n",
    "    \n",
    "    # costs (or distances of path to node)\n",
    "    # inf represents that these nodes are not connected.\n",
    "    costs = np.inf * np.ones((o,))\n",
    "    \n",
    "    # Begin our search at start node start, which is distance 0\n",
    "    queue = [(start, 0)]\n",
    "    \n",
    "    # Dictionary of nodes we have already seen.\n",
    "    # keys are ints, and values are booleans.\n",
    "    seen = {}\n",
    "    \n",
    "    # YOUR CODE HERE\n",
    "    # ***** Start of your code *****\n",
    "    assert False, \"Delete this line!\"\n",
    "    # ***** End of your code *****\n",
    "    return costs"
   ]
  },
  {
   "cell_type": "markdown",
   "metadata": {},
   "source": [
    "### b) A search\n",
    "\n",
    "Let's search for a path from cell [0, 10] to cell [8, 4]"
   ]
  },
  {
   "cell_type": "code",
   "execution_count": 30,
   "metadata": {},
   "outputs": [],
   "source": [
    "stanford_start = [0, 10]\n",
    "stanford_end = [8, 4]"
   ]
  },
  {
   "cell_type": "markdown",
   "metadata": {},
   "source": [
    "Let's visualize this."
   ]
  },
  {
   "cell_type": "code",
   "execution_count": 31,
   "metadata": {},
   "outputs": [
    {
     "data": {
      "image/png": "[encoded data removed]",
      "text/plain": [
       "<Figure size 432x288 with 1 Axes>"
      ]
     },
     "metadata": {
      "needs_background": "light"
     },
     "output_type": "display_data"
    }
   ],
   "source": [
    "visualize_map(\"Start to End\", stanford_map, start=stanford_start, end=stanford_end)"
   ]
  },
  {
   "cell_type": "markdown",
   "metadata": {},
   "source": [
    "We need these as vertices"
   ]
  },
  {
   "cell_type": "code",
   "execution_count": 32,
   "metadata": {},
   "outputs": [
    {
     "ename": "AssertionError",
     "evalue": "Delete this line!",
     "output_type": "error",
     "traceback": [
      "\u001b[1;31m---------------------------------------------------------------------------\u001b[0m",
      "\u001b[1;31mAssertionError\u001b[0m                            Traceback (most recent call last)",
      "\u001b[1;32m<ipython-input-32-2f9279b160e2>\u001b[0m in \u001b[0;36m<module>\u001b[1;34m\u001b[0m\n\u001b[1;32m----> 1\u001b[1;33m \u001b[0mstanford_start_vertex\u001b[0m \u001b[1;33m=\u001b[0m \u001b[0mvertex_of_cell\u001b[0m\u001b[1;33m(\u001b[0m\u001b[0mstanford_map\u001b[0m\u001b[1;33m,\u001b[0m \u001b[0mstanford_start\u001b[0m\u001b[1;33m[\u001b[0m\u001b[1;36m0\u001b[0m\u001b[1;33m]\u001b[0m\u001b[1;33m,\u001b[0m \u001b[0mstanford_start\u001b[0m\u001b[1;33m[\u001b[0m\u001b[1;36m1\u001b[0m\u001b[1;33m]\u001b[0m\u001b[1;33m)\u001b[0m\u001b[1;33m\u001b[0m\u001b[1;33m\u001b[0m\u001b[0m\n\u001b[0m\u001b[0;32m      2\u001b[0m \u001b[0mstanford_end_vertex\u001b[0m \u001b[1;33m=\u001b[0m \u001b[0mvertex_of_cell\u001b[0m\u001b[1;33m(\u001b[0m\u001b[0mstanford_map\u001b[0m\u001b[1;33m,\u001b[0m \u001b[0mstanford_end\u001b[0m\u001b[1;33m[\u001b[0m\u001b[1;36m0\u001b[0m\u001b[1;33m]\u001b[0m\u001b[1;33m,\u001b[0m \u001b[0mstanford_end\u001b[0m\u001b[1;33m[\u001b[0m\u001b[1;36m1\u001b[0m\u001b[1;33m]\u001b[0m\u001b[1;33m)\u001b[0m\u001b[1;33m\u001b[0m\u001b[1;33m\u001b[0m\u001b[0m\n",
      "\u001b[1;32m<ipython-input-11-b6b02c07afa8>\u001b[0m in \u001b[0;36mvertex_of_cell\u001b[1;34m(M, i, j)\u001b[0m\n\u001b[0;32m     11\u001b[0m     \u001b[1;31m# YOUR CODE HERE\u001b[0m\u001b[1;33m\u001b[0m\u001b[1;33m\u001b[0m\u001b[1;33m\u001b[0m\u001b[0m\n\u001b[0;32m     12\u001b[0m     \u001b[1;31m# ***** Start of your code *****\u001b[0m\u001b[1;33m\u001b[0m\u001b[1;33m\u001b[0m\u001b[1;33m\u001b[0m\u001b[0m\n\u001b[1;32m---> 13\u001b[1;33m     \u001b[1;32massert\u001b[0m \u001b[1;32mFalse\u001b[0m\u001b[1;33m,\u001b[0m \u001b[1;34m\"Delete this line!\"\u001b[0m\u001b[1;33m\u001b[0m\u001b[1;33m\u001b[0m\u001b[0m\n\u001b[0m\u001b[0;32m     14\u001b[0m     \u001b[1;31m# ***** End of your code *****\u001b[0m\u001b[1;33m\u001b[0m\u001b[1;33m\u001b[0m\u001b[1;33m\u001b[0m\u001b[0m\n",
      "\u001b[1;31mAssertionError\u001b[0m: Delete this line!"
     ]
    }
   ],
   "source": [
    "stanford_start_vertex = vertex_of_cell(stanford_map, stanford_start[0], stanford_start[1])\n",
    "stanford_end_vertex = vertex_of_cell(stanford_map, stanford_end[0], stanford_end[1])"
   ]
  },
  {
   "cell_type": "markdown",
   "metadata": {},
   "source": [
    "We can use our function!"
   ]
  },
  {
   "cell_type": "code",
   "execution_count": 33,
   "metadata": {},
   "outputs": [
    {
     "ename": "NameError",
     "evalue": "name 'stanford_adjacency' is not defined",
     "output_type": "error",
     "traceback": [
      "\u001b[1;31m---------------------------------------------------------------------------\u001b[0m",
      "\u001b[1;31mNameError\u001b[0m                                 Traceback (most recent call last)",
      "\u001b[1;32m<ipython-input-33-4fb7256ade70>\u001b[0m in \u001b[0;36m<module>\u001b[1;34m\u001b[0m\n\u001b[0;32m      1\u001b[0m stanford_costs = uniform_cost_search(\n\u001b[1;32m----> 2\u001b[1;33m     \u001b[0mstanford_adjacency\u001b[0m\u001b[1;33m,\u001b[0m\u001b[1;33m\u001b[0m\u001b[1;33m\u001b[0m\u001b[0m\n\u001b[0m\u001b[0;32m      3\u001b[0m     \u001b[0mstanford_start_vertex\u001b[0m\u001b[1;33m,\u001b[0m\u001b[1;33m\u001b[0m\u001b[1;33m\u001b[0m\u001b[0m\n\u001b[0;32m      4\u001b[0m     \u001b[0mstanford_end_vertex\u001b[0m\u001b[1;33m,\u001b[0m\u001b[1;33m\u001b[0m\u001b[1;33m\u001b[0m\u001b[0m\n\u001b[0;32m      5\u001b[0m )\n",
      "\u001b[1;31mNameError\u001b[0m: name 'stanford_adjacency' is not defined"
     ]
    }
   ],
   "source": [
    "stanford_costs = uniform_cost_search(\n",
    "    stanford_adjacency,\n",
    "    stanford_start_vertex,\n",
    "    stanford_end_vertex,\n",
    ")"
   ]
  },
  {
   "cell_type": "markdown",
   "metadata": {},
   "source": [
    "We can use a helper function to visualize the costs! Yellow is higher!"
   ]
  },
  {
   "cell_type": "code",
   "execution_count": 34,
   "metadata": {},
   "outputs": [
    {
     "ename": "NameError",
     "evalue": "name 'stanford_costs' is not defined",
     "output_type": "error",
     "traceback": [
      "\u001b[1;31m---------------------------------------------------------------------------\u001b[0m",
      "\u001b[1;31mNameError\u001b[0m                                 Traceback (most recent call last)",
      "\u001b[1;32m<ipython-input-34-1bac68557632>\u001b[0m in \u001b[0;36m<module>\u001b[1;34m\u001b[0m\n\u001b[0;32m      2\u001b[0m     \u001b[1;34m\"Distances from Start on Stanford Map\"\u001b[0m\u001b[1;33m,\u001b[0m\u001b[1;33m\u001b[0m\u001b[1;33m\u001b[0m\u001b[0m\n\u001b[0;32m      3\u001b[0m     \u001b[0mstanford_map\u001b[0m\u001b[1;33m,\u001b[0m\u001b[1;33m\u001b[0m\u001b[1;33m\u001b[0m\u001b[0m\n\u001b[1;32m----> 4\u001b[1;33m     \u001b[0mstanford_costs\u001b[0m\u001b[1;33m,\u001b[0m\u001b[1;33m\u001b[0m\u001b[1;33m\u001b[0m\u001b[0m\n\u001b[0m\u001b[0;32m      5\u001b[0m     \u001b[0mstart\u001b[0m\u001b[1;33m=\u001b[0m\u001b[0mstanford_start\u001b[0m\u001b[1;33m,\u001b[0m\u001b[1;33m\u001b[0m\u001b[1;33m\u001b[0m\u001b[0m\n\u001b[0;32m      6\u001b[0m     \u001b[0mend\u001b[0m\u001b[1;33m=\u001b[0m\u001b[0mstanford_end\u001b[0m\u001b[1;33m,\u001b[0m\u001b[1;33m\u001b[0m\u001b[1;33m\u001b[0m\u001b[0m\n",
      "\u001b[1;31mNameError\u001b[0m: name 'stanford_costs' is not defined"
     ]
    }
   ],
   "source": [
    "visualize_costs(\n",
    "    \"Distances from Start on Stanford Map\", \n",
    "    stanford_map, \n",
    "    stanford_costs, \n",
    "    start=stanford_start,\n",
    "    end=stanford_end,\n",
    ")"
   ]
  },
  {
   "cell_type": "markdown",
   "metadata": {},
   "source": [
    "<div style=\"color: #a00; font-weight: 800; padding: 1em 0; border-top: 0.4em solid #eee;\">Checkoff: Cost Visualization</div>\n",
    "\n",
    "Which color corresponds to a high path from the goal?\n",
    "\n",
    "> *Your response here*"
   ]
  },
  {
   "cell_type": "markdown",
   "metadata": {},
   "source": [
    "### c) Path reconstruction\n",
    "\n",
    "Now that we have the shortest distances to each vertex, we need to construct the shortest path!"
   ]
  },
  {
   "cell_type": "markdown",
   "metadata": {},
   "source": [
    "<div style=\"color: #a00; font-weight: 800; padding: 1em 0; border-top: 0.4em solid #eee;\">Checkoff: Shortest Neighbor</div>\n",
    "\n",
    "Given a vertex `k` we want to find the neighbor of this vertex that has the smallest cost.\n",
    "\n",
    "Complete the `shortest_neighbor` function."
   ]
  },
  {
   "cell_type": "code",
   "execution_count": 35,
   "metadata": {},
   "outputs": [],
   "source": [
    "def shortest_neighbor(A, costs, k):\n",
    "    \"\"\"Find the neighbor to vertex `k` with the shortest distance.\n",
    "    \n",
    "    Args:\n",
    "        A (np.ndarray): Adjacency matrix representing graph.\n",
    "        costs (np.ndarray): costs to each vertex from some start node.\n",
    "        k (int): vertex whose neighbors we should consider\n",
    "    \"\"\"\n",
    "    # YOUR CODE HERE\n",
    "    # ***** Start of your code *****\n",
    "    assert False, \"Delete this line!\"\n",
    "    # ***** End of your code *****"
   ]
  },
  {
   "cell_type": "markdown",
   "metadata": {},
   "source": [
    "<div style=\"color: #a00; font-weight: 800; padding: 1em 0; border-top: 0.4em solid #eee;\">Checkoff: Shortest Path</div>\n",
    "\n",
    "Complete the function `shortest_path`. You should use your `shortest_neighbor` function.\n",
    "\n",
    "Hint: Start at the goal, find the cheapest neighbor, then find the cheapest neighbor of that neighbor, and so on..."
   ]
  },
  {
   "cell_type": "code",
   "execution_count": 36,
   "metadata": {},
   "outputs": [],
   "source": [
    "def shortest_path(A, costs, start, goal):\n",
    "    \"\"\"Find the shortest_path to goal from start. Costs are distances from start.\n",
    "    \n",
    "    Args:\n",
    "        A (np.ndarray): Adjacency matrix representing graph.\n",
    "        costs (np.ndarray): costs (distances) to each vertex from `start`.\n",
    "        start (int): vertex to start at.\n",
    "        goal (int): vertex to reach.\n",
    "    \"\"\"\n",
    "    \n",
    "    # YOUR CODE HERE\n",
    "    # ***** Start of your code *****\n",
    "    assert False, \"Delete this line!\"\n",
    "    # ***** End of your code *****"
   ]
  },
  {
   "cell_type": "markdown",
   "metadata": {},
   "source": [
    "Let's use this function to compute the path..."
   ]
  },
  {
   "cell_type": "code",
   "execution_count": 37,
   "metadata": {},
   "outputs": [
    {
     "ename": "NameError",
     "evalue": "name 'stanford_adjacency' is not defined",
     "output_type": "error",
     "traceback": [
      "\u001b[1;31m---------------------------------------------------------------------------\u001b[0m",
      "\u001b[1;31mNameError\u001b[0m                                 Traceback (most recent call last)",
      "\u001b[1;32m<ipython-input-37-3d2fdc0755bd>\u001b[0m in \u001b[0;36m<module>\u001b[1;34m\u001b[0m\n\u001b[0;32m      1\u001b[0m stanford_path = shortest_path(\n\u001b[1;32m----> 2\u001b[1;33m     \u001b[0mstanford_adjacency\u001b[0m\u001b[1;33m,\u001b[0m\u001b[1;33m\u001b[0m\u001b[1;33m\u001b[0m\u001b[0m\n\u001b[0m\u001b[0;32m      3\u001b[0m     \u001b[0mstanford_costs\u001b[0m\u001b[1;33m,\u001b[0m\u001b[1;33m\u001b[0m\u001b[1;33m\u001b[0m\u001b[0m\n\u001b[0;32m      4\u001b[0m     \u001b[0mstanford_start_vertex\u001b[0m\u001b[1;33m,\u001b[0m\u001b[1;33m\u001b[0m\u001b[1;33m\u001b[0m\u001b[0m\n\u001b[0;32m      5\u001b[0m     \u001b[0mstanford_end_vertex\u001b[0m\u001b[1;33m,\u001b[0m\u001b[1;33m\u001b[0m\u001b[1;33m\u001b[0m\u001b[0m\n",
      "\u001b[1;31mNameError\u001b[0m: name 'stanford_adjacency' is not defined"
     ]
    }
   ],
   "source": [
    "stanford_path = shortest_path(\n",
    "    stanford_adjacency, \n",
    "    stanford_costs, \n",
    "    stanford_start_vertex, \n",
    "    stanford_end_vertex,\n",
    ")\n",
    "print(stanford_path)"
   ]
  },
  {
   "cell_type": "markdown",
   "metadata": {},
   "source": [
    "We can use the helper `visualize_map` function with keyword argument `path` to visualize the path as well!"
   ]
  },
  {
   "cell_type": "code",
   "execution_count": 38,
   "metadata": {},
   "outputs": [
    {
     "ename": "NameError",
     "evalue": "name 'stanford_path' is not defined",
     "output_type": "error",
     "traceback": [
      "\u001b[1;31m---------------------------------------------------------------------------\u001b[0m",
      "\u001b[1;31mNameError\u001b[0m                                 Traceback (most recent call last)",
      "\u001b[1;32m<ipython-input-38-702a902a04f0>\u001b[0m in \u001b[0;36m<module>\u001b[1;34m\u001b[0m\n\u001b[1;32m----> 1\u001b[1;33m \u001b[0mvisualize_map\u001b[0m\u001b[1;33m(\u001b[0m\u001b[1;34m\"Start to End\"\u001b[0m\u001b[1;33m,\u001b[0m \u001b[0mstanford_map\u001b[0m\u001b[1;33m,\u001b[0m \u001b[0mstart\u001b[0m\u001b[1;33m=\u001b[0m\u001b[0mstanford_start\u001b[0m\u001b[1;33m,\u001b[0m \u001b[0mend\u001b[0m\u001b[1;33m=\u001b[0m\u001b[0mstanford_end\u001b[0m\u001b[1;33m,\u001b[0m \u001b[0mpath\u001b[0m\u001b[1;33m=\u001b[0m\u001b[0mstanford_path\u001b[0m\u001b[1;33m)\u001b[0m\u001b[1;33m\u001b[0m\u001b[1;33m\u001b[0m\u001b[0m\n\u001b[0m",
      "\u001b[1;31mNameError\u001b[0m: name 'stanford_path' is not defined"
     ]
    }
   ],
   "source": [
    "visualize_map(\"Start to End\", stanford_map, start=stanford_start, end=stanford_end, path=stanford_path)"
   ]
  },
  {
   "cell_type": "markdown",
   "metadata": {},
   "source": [
    "Nice! But let's see the drone **fly**!"
   ]
  },
  {
   "cell_type": "code",
   "execution_count": 39,
   "metadata": {},
   "outputs": [
    {
     "ename": "NameError",
     "evalue": "name 'stanford_path' is not defined",
     "output_type": "error",
     "traceback": [
      "\u001b[1;31m---------------------------------------------------------------------------\u001b[0m",
      "\u001b[1;31mNameError\u001b[0m                                 Traceback (most recent call last)",
      "\u001b[1;32m<ipython-input-39-3efcc2917077>\u001b[0m in \u001b[0;36m<module>\u001b[1;34m\u001b[0m\n\u001b[1;32m----> 1\u001b[1;33m \u001b[0mprint\u001b[0m\u001b[1;33m(\u001b[0m\u001b[0mstanford_path\u001b[0m\u001b[1;33m)\u001b[0m\u001b[1;33m\u001b[0m\u001b[1;33m\u001b[0m\u001b[0m\n\u001b[0m",
      "\u001b[1;31mNameError\u001b[0m: name 'stanford_path' is not defined"
     ]
    }
   ],
   "source": [
    "print(stanford_path)"
   ]
  },
  {
   "cell_type": "code",
   "execution_count": 40,
   "metadata": {},
   "outputs": [
    {
     "ename": "NameError",
     "evalue": "name 'stanford_path' is not defined",
     "output_type": "error",
     "traceback": [
      "\u001b[1;31m---------------------------------------------------------------------------\u001b[0m",
      "\u001b[1;31mNameError\u001b[0m                                 Traceback (most recent call last)",
      "\u001b[1;32m<ipython-input-40-88d7575fe2d9>\u001b[0m in \u001b[0;36m<module>\u001b[1;34m\u001b[0m\n\u001b[1;32m----> 1\u001b[1;33m \u001b[0mvisualize_path\u001b[0m\u001b[1;33m(\u001b[0m\u001b[0mstanford_map\u001b[0m\u001b[1;33m,\u001b[0m \u001b[0mstanford_path\u001b[0m\u001b[1;33m)\u001b[0m\u001b[1;33m\u001b[0m\u001b[1;33m\u001b[0m\u001b[0m\n\u001b[0m",
      "\u001b[1;31mNameError\u001b[0m: name 'stanford_path' is not defined"
     ]
    }
   ],
   "source": [
    "visualize_path(stanford_map, stanford_path)"
   ]
  },
  {
   "cell_type": "markdown",
   "metadata": {},
   "source": [
    "For your project you can try this on much more complicated maps, or on maps constructed from satellite imagery. Additionally, you can try more sophisticated graph search algorithms!"
   ]
  },
  {
   "cell_type": "markdown",
   "metadata": {},
   "source": [
    "## 7. Mystery Map\n",
    "\n",
    "To see how all our code can work on any map, try out this mystery map!"
   ]
  },
  {
   "cell_type": "code",
   "execution_count": 43,
   "metadata": {},
   "outputs": [],
   "source": [
    "mystery_map = np.array([\n",
    "    [0, 0, 0, 0, 0,],\n",
    "    [1, 1, 1, 1, 1,],\n",
    "    [1, 0, 0, 1, 0,],\n",
    "    [1, 0, 1, 1, 0,],\n",
    "    [1, 1, 1, 1, 1],\n",
    "])\n",
    "mystery_start = [4, 0]\n",
    "mystery_end = [1, 4]"
   ]
  },
  {
   "cell_type": "markdown",
   "metadata": {},
   "source": [
    "<div style=\"color: #a00; font-weight: 800; padding: 1em 0; border-top: 0.4em solid #eee;\">Checkoff: Visualize Mystery Map and the Start/End</div>\n",
    "\n",
    "Write code to visualize the mystery map with start and end goals!"
   ]
  },
  {
   "cell_type": "code",
   "execution_count": 44,
   "metadata": {},
   "outputs": [
    {
     "ename": "AssertionError",
     "evalue": "Delete this line!",
     "output_type": "error",
     "traceback": [
      "\u001b[1;31m---------------------------------------------------------------------------\u001b[0m",
      "\u001b[1;31mAssertionError\u001b[0m                            Traceback (most recent call last)",
      "\u001b[1;32m<ipython-input-44-a311798568f2>\u001b[0m in \u001b[0;36m<module>\u001b[1;34m\u001b[0m\n\u001b[0;32m      1\u001b[0m \u001b[1;31m# YOUR CODE HERE\u001b[0m\u001b[1;33m\u001b[0m\u001b[1;33m\u001b[0m\u001b[1;33m\u001b[0m\u001b[0m\n\u001b[0;32m      2\u001b[0m \u001b[1;31m# ***** Start of your code *****\u001b[0m\u001b[1;33m\u001b[0m\u001b[1;33m\u001b[0m\u001b[1;33m\u001b[0m\u001b[0m\n\u001b[1;32m----> 3\u001b[1;33m \u001b[1;32massert\u001b[0m \u001b[1;32mFalse\u001b[0m\u001b[1;33m,\u001b[0m \u001b[1;34m\"Delete this line!\"\u001b[0m\u001b[1;33m\u001b[0m\u001b[1;33m\u001b[0m\u001b[0m\n\u001b[0m\u001b[0;32m      4\u001b[0m \u001b[1;31m# ***** End of your code *****\u001b[0m\u001b[1;33m\u001b[0m\u001b[1;33m\u001b[0m\u001b[1;33m\u001b[0m\u001b[0m\n",
      "\u001b[1;31mAssertionError\u001b[0m: Delete this line!"
     ]
    }
   ],
   "source": [
    "# YOUR CODE HERE\n",
    "# ***** Start of your code *****\n",
    "assert False, \"Delete this line!\"\n",
    "# ***** End of your code *****"
   ]
  },
  {
   "cell_type": "markdown",
   "metadata": {},
   "source": [
    "<div style=\"color: #a00; font-weight: 800; padding: 1em 0; border-top: 0.4em solid #eee;\">Checkoff: Find and Visualize Path on Mystery Map</div>\n",
    "\n",
    "Write code to visualize the mystery map with start and end goals!\n",
    "\n",
    "Hint: It involves several lines, but they are the same as what we did for the Stanford map!"
   ]
  },
  {
   "cell_type": "markdown",
   "metadata": {},
   "source": [
    "### a) Computing and Visualizing Costs"
   ]
  },
  {
   "cell_type": "code",
   "execution_count": 45,
   "metadata": {
    "scrolled": false
   },
   "outputs": [
    {
     "ename": "AssertionError",
     "evalue": "Delete this line!",
     "output_type": "error",
     "traceback": [
      "\u001b[1;31m---------------------------------------------------------------------------\u001b[0m",
      "\u001b[1;31mAssertionError\u001b[0m                            Traceback (most recent call last)",
      "\u001b[1;32m<ipython-input-45-a311798568f2>\u001b[0m in \u001b[0;36m<module>\u001b[1;34m\u001b[0m\n\u001b[0;32m      1\u001b[0m \u001b[1;31m# YOUR CODE HERE\u001b[0m\u001b[1;33m\u001b[0m\u001b[1;33m\u001b[0m\u001b[1;33m\u001b[0m\u001b[0m\n\u001b[0;32m      2\u001b[0m \u001b[1;31m# ***** Start of your code *****\u001b[0m\u001b[1;33m\u001b[0m\u001b[1;33m\u001b[0m\u001b[1;33m\u001b[0m\u001b[0m\n\u001b[1;32m----> 3\u001b[1;33m \u001b[1;32massert\u001b[0m \u001b[1;32mFalse\u001b[0m\u001b[1;33m,\u001b[0m \u001b[1;34m\"Delete this line!\"\u001b[0m\u001b[1;33m\u001b[0m\u001b[1;33m\u001b[0m\u001b[0m\n\u001b[0m\u001b[0;32m      4\u001b[0m \u001b[1;31m# ***** End of your code *****\u001b[0m\u001b[1;33m\u001b[0m\u001b[1;33m\u001b[0m\u001b[1;33m\u001b[0m\u001b[0m\n",
      "\u001b[1;31mAssertionError\u001b[0m: Delete this line!"
     ]
    }
   ],
   "source": [
    "# YOUR CODE HERE\n",
    "# ***** Start of your code *****\n",
    "assert False, \"Delete this line!\"\n",
    "# ***** End of your code *****"
   ]
  },
  {
   "cell_type": "markdown",
   "metadata": {},
   "source": [
    "### b) Compute and Visualizing\n",
    "\n",
    "...using `shortest_path` and `visualize_map`!"
   ]
  },
  {
   "cell_type": "code",
   "execution_count": 46,
   "metadata": {},
   "outputs": [
    {
     "ename": "AssertionError",
     "evalue": "Delete this line!",
     "output_type": "error",
     "traceback": [
      "\u001b[1;31m---------------------------------------------------------------------------\u001b[0m",
      "\u001b[1;31mAssertionError\u001b[0m                            Traceback (most recent call last)",
      "\u001b[1;32m<ipython-input-46-a311798568f2>\u001b[0m in \u001b[0;36m<module>\u001b[1;34m\u001b[0m\n\u001b[0;32m      1\u001b[0m \u001b[1;31m# YOUR CODE HERE\u001b[0m\u001b[1;33m\u001b[0m\u001b[1;33m\u001b[0m\u001b[1;33m\u001b[0m\u001b[0m\n\u001b[0;32m      2\u001b[0m \u001b[1;31m# ***** Start of your code *****\u001b[0m\u001b[1;33m\u001b[0m\u001b[1;33m\u001b[0m\u001b[1;33m\u001b[0m\u001b[0m\n\u001b[1;32m----> 3\u001b[1;33m \u001b[1;32massert\u001b[0m \u001b[1;32mFalse\u001b[0m\u001b[1;33m,\u001b[0m \u001b[1;34m\"Delete this line!\"\u001b[0m\u001b[1;33m\u001b[0m\u001b[1;33m\u001b[0m\u001b[0m\n\u001b[0m\u001b[0;32m      4\u001b[0m \u001b[1;31m# ***** End of your code *****\u001b[0m\u001b[1;33m\u001b[0m\u001b[1;33m\u001b[0m\u001b[1;33m\u001b[0m\u001b[0m\n",
      "\u001b[1;31mAssertionError\u001b[0m: Delete this line!"
     ]
    }
   ],
   "source": [
    "# YOUR CODE HERE\n",
    "# ***** Start of your code *****\n",
    "assert False, \"Delete this line!\"\n",
    "# ***** End of your code *****"
   ]
  },
  {
   "cell_type": "markdown",
   "metadata": {},
   "source": [
    "### c) Animation Visualization\n",
    "\n",
    "Finally, we can use `visualize_path` to animate the flight!"
   ]
  },
  {
   "cell_type": "code",
   "execution_count": 47,
   "metadata": {},
   "outputs": [
    {
     "ename": "NameError",
     "evalue": "name 'mystery_path' is not defined",
     "output_type": "error",
     "traceback": [
      "\u001b[1;31m---------------------------------------------------------------------------\u001b[0m",
      "\u001b[1;31mNameError\u001b[0m                                 Traceback (most recent call last)",
      "\u001b[1;32m<ipython-input-47-068476661e30>\u001b[0m in \u001b[0;36m<module>\u001b[1;34m\u001b[0m\n\u001b[1;32m----> 1\u001b[1;33m \u001b[0mvisualize_path\u001b[0m\u001b[1;33m(\u001b[0m\u001b[0mmystery_map\u001b[0m\u001b[1;33m,\u001b[0m \u001b[0mmystery_path\u001b[0m\u001b[1;33m)\u001b[0m\u001b[1;33m\u001b[0m\u001b[1;33m\u001b[0m\u001b[0m\n\u001b[0m",
      "\u001b[1;31mNameError\u001b[0m: name 'mystery_path' is not defined"
     ]
    }
   ],
   "source": [
    "visualize_path(mystery_map, mystery_path)"
   ]
  },
  {
   "cell_type": "markdown",
   "metadata": {},
   "source": [
    "Congratulations, you've completed a whirlwind tour of graphs and graph search algorithms!"
   ]
  }
 ],
 "metadata": {
  "kernelspec": {
   "display_name": "Python 3",
   "language": "python",
   "name": "python3"
  },
  "language_info": {
   "codemirror_mode": {
    "name": "ipython",
    "version": 3
   },
   "file_extension": ".py",
   "mimetype": "text/x-python",
   "name": "python",
   "nbconvert_exporter": "python",
   "pygments_lexer": "ipython3",
   "version": "3.7.6"
  }
 },
 "nbformat": 4,
 "nbformat_minor": 4
}
